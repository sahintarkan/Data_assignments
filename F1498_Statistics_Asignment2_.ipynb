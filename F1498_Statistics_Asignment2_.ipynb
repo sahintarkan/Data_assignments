{
  "cells": [
    {
      "cell_type": "markdown",
      "metadata": {
        "id": "view-in-github",
        "colab_type": "text"
      },
      "source": [
        "<a href=\"https://colab.research.google.com/github/sahintarkan/Data_assignments/blob/main/F1498_Statistics_Asignment2_.ipynb\" target=\"_parent\"><img src=\"https://colab.research.google.com/assets/colab-badge.svg\" alt=\"Open In Colab\"/></a>"
      ]
    },
    {
      "cell_type": "markdown",
      "id": "707d1e5e",
      "metadata": {
        "id": "707d1e5e"
      },
      "source": [
        "# STATISTICS\n",
        "### ASSIGNMENT (CONFIDENCE INTERVALS) "
      ]
    },
    {
      "cell_type": "markdown",
      "id": "ff57180a",
      "metadata": {
        "id": "ff57180a"
      },
      "source": [
        "### EXERCISE 1."
      ]
    },
    {
      "cell_type": "markdown",
      "id": "fc55f9be",
      "metadata": {
        "id": "fc55f9be"
      },
      "source": [
        "Suppose scores on exams in statistics are normally distributed with an unknown population mean and a population standard deviation of 3 points. A random sample of 36 scores is taken and gives a sample mean (sample mean score) of 68. Find a confidence interval estimate for the population mean exam score (the mean score on all exams).\n",
        "Find a 90% confidence interval for the true (population) mean of statistics exam scores. "
      ]
    },
    {
      "cell_type": "markdown",
      "id": "fa1a5cf4",
      "metadata": {
        "id": "fa1a5cf4"
      },
      "source": [
        "### SOLUTION 1."
      ]
    },
    {
      "cell_type": "code",
      "execution_count": null,
      "id": "be3da263",
      "metadata": {
        "id": "be3da263"
      },
      "outputs": [],
      "source": [
        "import numpy as np\n",
        "from scipy import stats\n",
        "import matplotlib.pyplot as plt\n",
        "import seaborn as sns"
      ]
    },
    {
      "cell_type": "code",
      "execution_count": null,
      "id": "879c8266",
      "metadata": {
        "id": "879c8266"
      },
      "outputs": [],
      "source": [
        "sd = 3\n",
        "n = 36\n",
        "xbar = 68\n",
        "alpha = 0.90"
      ]
    },
    {
      "cell_type": "code",
      "execution_count": null,
      "id": "3c479418",
      "metadata": {
        "id": "3c479418",
        "outputId": "fd00fb0f-7f4b-4e14-ee66-08d935898551"
      },
      "outputs": [
        {
          "data": {
            "text/plain": [
              "0.5"
            ]
          },
          "execution_count": 12,
          "metadata": {},
          "output_type": "execute_result"
        }
      ],
      "source": [
        "sem = sd/np.sqrt(n)\n",
        "sem"
      ]
    },
    {
      "cell_type": "code",
      "execution_count": null,
      "id": "8479d0ef",
      "metadata": {
        "id": "8479d0ef",
        "outputId": "bb3baee8-bb7c-461b-fb21-a2f9186c96fd"
      },
      "outputs": [
        {
          "data": {
            "text/plain": [
              "(67.17757318652427, 68.82242681347573)"
            ]
          },
          "execution_count": 13,
          "metadata": {},
          "output_type": "execute_result"
        }
      ],
      "source": [
        "stats.norm.interval(alpha=alpha,loc=xbar, scale=sem)"
      ]
    },
    {
      "cell_type": "markdown",
      "id": "1fb122ce",
      "metadata": {
        "id": "1fb122ce"
      },
      "source": [
        "We estimate with 90% confidence that the true population mean exam score for all statistics students is between 67.18 and 68.82."
      ]
    },
    {
      "cell_type": "markdown",
      "id": "d94edbf8",
      "metadata": {
        "id": "d94edbf8"
      },
      "source": [
        "### EXERCISE 2."
      ]
    },
    {
      "cell_type": "markdown",
      "id": "c93a1ff6",
      "metadata": {
        "id": "c93a1ff6"
      },
      "source": [
        "What is the normal body temperature for healthy humans? A random sample of 130 healthy human body temperatures provided by Allen Shoemaker7 yielded 98.25 degrees and standard deviation 0.73 degrees. \n",
        "Give a 99% confidence interval for the average body temperature of healthy people."
      ]
    },
    {
      "cell_type": "markdown",
      "id": "f77fd3ca",
      "metadata": {
        "id": "f77fd3ca"
      },
      "source": [
        "### SOLUTION 2."
      ]
    },
    {
      "cell_type": "code",
      "execution_count": null,
      "id": "4ccdbb88",
      "metadata": {
        "id": "4ccdbb88"
      },
      "outputs": [],
      "source": [
        "n1 = 130\n",
        "xbar1=98.25\n",
        "sd1=0.73\n",
        "alpha1 = 0.99"
      ]
    },
    {
      "cell_type": "code",
      "execution_count": null,
      "id": "8eb005cc",
      "metadata": {
        "id": "8eb005cc",
        "outputId": "173e6741-313f-4cd5-99ef-7fd9e8cb8106"
      },
      "outputs": [
        {
          "data": {
            "text/plain": [
              "0.06402523540941313"
            ]
          },
          "execution_count": 15,
          "metadata": {},
          "output_type": "execute_result"
        }
      ],
      "source": [
        "sem1 = sd1/np.sqrt(n1)\n",
        "sem1"
      ]
    },
    {
      "cell_type": "code",
      "execution_count": null,
      "id": "638d4699",
      "metadata": {
        "id": "638d4699",
        "outputId": "9fad6db1-333e-4545-91bf-ef7fbf70fdc8"
      },
      "outputs": [
        {
          "data": {
            "text/plain": [
              "(98.08508192246582, 98.41491807753418)"
            ]
          },
          "execution_count": 20,
          "metadata": {},
          "output_type": "execute_result"
        }
      ],
      "source": [
        "stats.norm.interval(alpha=alpha1,loc=xbar1, scale=sem1)"
      ]
    },
    {
      "cell_type": "markdown",
      "id": "5b06e136",
      "metadata": {
        "id": "5b06e136"
      },
      "source": [
        "Therefore the evidence does not indicate that the average body temperature for healthy humans is different from 98.6◦."
      ]
    },
    {
      "cell_type": "markdown",
      "id": "43ea7c8f",
      "metadata": {
        "id": "43ea7c8f"
      },
      "source": [
        "### EXERCISE 3."
      ]
    },
    {
      "cell_type": "markdown",
      "id": "3ec8ce93",
      "metadata": {
        "id": "3ec8ce93"
      },
      "source": [
        "The administrators for a hospital wished to estimate the average number of days required for inpatient treatment of patients between the ages of 25 and 34. A random sample of 500 hospital patients between these ages produced a mean and standard deviation equal to 5.4 and 3.1 days, respectively.\n",
        "Construct a 95% confidence interval for the mean length of stay for the population of patients from which the sample was drawn."
      ]
    },
    {
      "cell_type": "markdown",
      "id": "0ab26e2e",
      "metadata": {
        "id": "0ab26e2e"
      },
      "source": [
        "### SOLUTION 3."
      ]
    },
    {
      "cell_type": "code",
      "execution_count": null,
      "id": "6875b4dc",
      "metadata": {
        "id": "6875b4dc"
      },
      "outputs": [],
      "source": [
        "n2 = 500\n",
        "sd2 = 3.1\n",
        "xbar2 = 5.4\n",
        "alpha2=0.95"
      ]
    },
    {
      "cell_type": "code",
      "execution_count": null,
      "id": "7991d854",
      "metadata": {
        "id": "7991d854",
        "outputId": "3b796ed5-35dc-4b4a-a3f0-91a1b2c69499"
      },
      "outputs": [
        {
          "data": {
            "text/plain": [
              "0.13863621460498696"
            ]
          },
          "execution_count": 19,
          "metadata": {},
          "output_type": "execute_result"
        }
      ],
      "source": [
        "sem2 = sd2/np.sqrt(n2)\n",
        "sem2 "
      ]
    },
    {
      "cell_type": "code",
      "execution_count": null,
      "id": "7fd730b9",
      "metadata": {
        "id": "7fd730b9",
        "outputId": "6e69d29c-43b3-48fc-96db-219d9ce38fa9"
      },
      "outputs": [
        {
          "data": {
            "text/plain": [
              "(5.12827801242126, 5.67172198757874)"
            ]
          },
          "execution_count": 21,
          "metadata": {},
          "output_type": "execute_result"
        }
      ],
      "source": [
        "stats.norm.interval(alpha=alpha2,loc=xbar2, scale=sem2)"
      ]
    },
    {
      "cell_type": "code",
      "execution_count": null,
      "id": "fac44026",
      "metadata": {
        "id": "fac44026"
      },
      "outputs": [],
      "source": [
        ""
      ]
    }
  ],
  "metadata": {
    "kernelspec": {
      "display_name": "Python 3 (ipykernel)",
      "language": "python",
      "name": "python3"
    },
    "language_info": {
      "codemirror_mode": {
        "name": "ipython",
        "version": 3
      },
      "file_extension": ".py",
      "mimetype": "text/x-python",
      "name": "python",
      "nbconvert_exporter": "python",
      "pygments_lexer": "ipython3",
      "version": "3.9.12"
    },
    "toc": {
      "base_numbering": 1,
      "nav_menu": {},
      "number_sections": true,
      "sideBar": true,
      "skip_h1_title": false,
      "title_cell": "Table of Contents",
      "title_sidebar": "Contents",
      "toc_cell": false,
      "toc_position": {},
      "toc_section_display": true,
      "toc_window_display": false
    },
    "colab": {
      "name": "F1498 -Statistics Asignment2   .ipynb",
      "provenance": [],
      "include_colab_link": true
    }
  },
  "nbformat": 4,
  "nbformat_minor": 5
}